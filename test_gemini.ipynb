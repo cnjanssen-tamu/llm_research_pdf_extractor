{
 "cells": [
  {
   "metadata": {
    "ExecuteTime": {
     "end_time": "2025-04-03T14:33:25.624672Z",
     "start_time": "2025-04-03T14:33:25.158005Z"
    }
   },
   "cell_type": "code",
   "source": "conda activate AI_Reviewer",
   "id": "147561491789b60a",
   "outputs": [
    {
     "name": "stdout",
     "output_type": "stream",
     "text": [
      "\r\n",
      "CondaError: Run 'conda init' before 'conda activate'\r\n",
      "\r\n",
      "\n",
      "Note: you may need to restart the kernel to use updated packages.\n"
     ]
    }
   ],
   "execution_count": 2
  },
  {
   "cell_type": "code",
   "id": "initial_id",
   "metadata": {
    "collapsed": true,
    "ExecuteTime": {
     "end_time": "2025-04-03T14:34:23.650832Z",
     "start_time": "2025-04-03T14:34:04.104157Z"
    }
   },
   "source": "!python manage.py shell",
   "outputs": [
    {
     "name": "stdout",
     "output_type": "stream",
     "text": [
      "DEBUG 2025-04-03 14:34:04,653 selector_events 10899 8193226816 Using selector: KqueueSelector\r\n",
      "\u001B[22;0t\u001B]0;IPython: AI_Reviewer/pdf_processor\u0007Python 3.12.6 | packaged by conda-forge | (main, Sep 22 2024, 14:07:06) [Clang 17.0.6 ]\r\n",
      "Type 'copyright', 'credits' or 'license' for more information\r\n",
      "IPython 8.12.2 -- An enhanced Interactive Python. Type '?' for help.\r\n",
      "\r\n",
      "DEBUG 2025-04-03 14:34:04,712 selector_events 10899 8193226816 Using selector: KqueueSelector\r\n",
      "\u001B[6n\u001B[?2004h\u001B[?1l\u001B[?25l\u001B[0m\u001B[?7l\u001B[0m\u001B[J\u001B[0;32mIn [\u001B[0;92;1m1\u001B[0;32m]: \u001B[8D\u001B[8C\u001B[?7h\u001B[0m\u001B[?12l\u001B[?25h\u001B[8D\u001B[J\u001B[0m\u001B[?7h\u001B[?2004lWARNING: your terminal doesn't support cursor position requests (CPR).\r\n",
      "\u001B[?2004h\u001B[?25l\u001B[0m\u001B[?7l\u001B[0m\u001B[J\u001B[0;32mIn [\u001B[0;92;1m1\u001B[0;32m]: \u001B[8D\u001B[8C\u001B[?7h\u001B[0m\u001B[?12l\u001B[?25h\u001B[?25l\u001B[?7l\u001B[8D\u001B[0m\u001B[J\u001B[0;32mIn [\u001B[0;92;1m1\u001B[0;32m]: \u001B[8D\u001B[0m\r\n",
      "\u001B[J\u001B[?7h\u001B[0m\u001B[?12l\u001B[?25h\u001B[?2004l\r\n",
      "\u001B[?2004h\u001B[?25l\u001B[0m\u001B[?7l\u001B[0m\u001B[J\u001B[0;32mIn [\u001B[0;92;1m1\u001B[0;32m]: \u001B[8D\u001B[8C\u001B[?7h\u001B[0m\u001B[?12l\u001B[?25h\u001B[?25l\u001B[?7l\u001B[?7h\u001B[0m\u001B[?12l\u001B[?25h"
     ]
    }
   ],
   "execution_count": 6
  },
  {
   "metadata": {},
   "cell_type": "code",
   "outputs": [],
   "execution_count": null,
   "source": "",
   "id": "1f8de1ab5b45b1d8"
  }
 ],
 "metadata": {
  "kernelspec": {
   "display_name": "Python 3",
   "language": "python",
   "name": "python3"
  },
  "language_info": {
   "codemirror_mode": {
    "name": "ipython",
    "version": 2
   },
   "file_extension": ".py",
   "mimetype": "text/x-python",
   "name": "python",
   "nbconvert_exporter": "python",
   "pygments_lexer": "ipython2",
   "version": "2.7.6"
  }
 },
 "nbformat": 4,
 "nbformat_minor": 5
}
